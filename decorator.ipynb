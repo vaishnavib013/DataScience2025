{
 "cells": [
  {
   "cell_type": "markdown",
   "id": "c0f70021-3fd8-4a55-b947-25bdf61368b8",
   "metadata": {},
   "source": [
    "# Decorators:\n",
    "A decorator function is a function that  accepts a function as a parameter and returns a function.\n",
    "\n",
    "A decorator is takes the result of function ,modifies the result and returns it\n",
    "In decorators ,functions are taken as the argument into another function and then called inside the wrapper function.\n",
    "We use @function_name to specify a decorator to be applied on another function."
   ]
  },
  {
   "cell_type": "code",
   "execution_count": 2,
   "id": "569ed720-7f7a-43ac-8137-f2a267877957",
   "metadata": {},
   "outputs": [
    {
     "name": "stdout",
     "output_type": "stream",
     "text": [
      "We will use this function\n",
      "and will enhance this in decorator\n"
     ]
    }
   ],
   "source": [
    "def num():\n",
    "    print(\"We will use this function\")\n",
    "    print(\"and will enhance this in decorator\")\n",
    "num()"
   ]
  },
  {
   "cell_type": "code",
   "execution_count": 4,
   "id": "9a4ad1ec-eb1d-458f-acab-ceb59260d789",
   "metadata": {},
   "outputs": [],
   "source": [
    "#here below we are defining the decorator function \n",
    "#which we need to specify before this functon"
   ]
  },
  {
   "cell_type": "code",
   "execution_count": 8,
   "id": "05b4e023-530f-416e-a9b0-40e263481545",
   "metadata": {},
   "outputs": [
    {
     "name": "stdout",
     "output_type": "stream",
     "text": [
      "Inner FUnction:Before ENhancing Function\n",
      "We will use this function\n",
      "and will enhance this in decorator\n",
      "Inner Function:After enhancing function\n"
     ]
    }
   ],
   "source": [
    "def decor(fun):\n",
    "    #so this fun is the parameter which will be having value as num().\n",
    "    #below is the nested functions.\n",
    "    def inner():\n",
    "        print(\"Inner FUnction:Before ENhancing Function\")\n",
    "        #so here we have to pass the num() in fun\n",
    "        fun() #if we givee here fun() =>then it calls the num().\n",
    "        #after calling this function we can now modify it.\n",
    "        print(\"Inner Function:After enhancing function\")\n",
    "        #here we have modified the inner function.Now lets return our inner function.\n",
    "    return inner\n",
    "\n",
    "#now lets call the decor() having parameters as a num \n",
    "decor(num)\n",
    "#so as the decor function is going to return the inner().so we will store the reult of that decor ie inner function.\n",
    "result_fun=decor(num)\n",
    "#in this result_fun it has the value of inner()\n",
    "#now lets call the result_fun also.\n",
    "result_fun()"
   ]
  },
  {
   "cell_type": "code",
   "execution_count": 12,
   "id": "10838d46-d47f-4ebf-98d5-c6c57022124a",
   "metadata": {},
   "outputs": [
    {
     "name": "stdout",
     "output_type": "stream",
     "text": [
      "We will use this function\n",
      "and will enhance this in decorator\n",
      "Inner FUnction:Before ENhancing Function\n",
      "We will use this function\n",
      "and will enhance this in decorator\n",
      "Inner Function:After enhancing function\n"
     ]
    }
   ],
   "source": [
    "def decor(fun):\n",
    "    def inner():\n",
    "        print(\"Inner FUnction:Before ENhancing Function\")\n",
    "        fun()\n",
    "        print(\"Inner Function:After enhancing function\")\n",
    "    return inner\n",
    "\n",
    "def num():\n",
    "    print(\"We will use this function\")\n",
    "    print(\"and will enhance this in decorator\")\n",
    "num()\n",
    "\n",
    "\n",
    "result_fun=decor(num)\n",
    "result_fun()"
   ]
  },
  {
   "cell_type": "markdown",
   "id": "5dcbd08b-54ef-4d4c-9c5b-6cc3705d50a2",
   "metadata": {},
   "source": [
    "Lets understand the working of this function.\n",
    "as result_fun stores the decor(num) =>so it calls that func ....but it wont execute at that time the inner().it would directly go on return inner.that time it goes to the inner() and then executes the values of it and stores tha value of inner() in the result_fun.\n",
    "when fun() is called it goes to the num as fun=num() so there the num() will be executed."
   ]
  },
  {
   "cell_type": "markdown",
   "id": "127667dd-4e03-4aa2-9e97-9b3c445622a9",
   "metadata": {},
   "source": [
    "Shift+M on square [] to turn into markdown"
   ]
  },
  {
   "cell_type": "markdown",
   "id": "87c25f15-620b-4d0b-8993-20ca75a0755c",
   "metadata": {},
   "source": [
    "THere is the another way of writing this and shortening this code"
   ]
  },
  {
   "cell_type": "code",
   "execution_count": 15,
   "id": "c27747b4-92dc-4136-8e2d-c349ceb0819a",
   "metadata": {},
   "outputs": [
    {
     "name": "stdout",
     "output_type": "stream",
     "text": [
      "Inner FUnction:Before ENhancing Function\n",
      "We will use this function\n",
      "and will enhance this in decorator\n",
      "Inner Function:After enhancing function\n"
     ]
    }
   ],
   "source": [
    "def decor(num):\n",
    "    def inner():\n",
    "        print(\"Inner FUnction:Before ENhancing Function\")\n",
    "        num()\n",
    "        print(\"Inner Function:After enhancing function\")\n",
    "    return inner\n",
    "\n",
    "def num():\n",
    "    print(\"We will use this function\")\n",
    "    print(\"and will enhance this in decorator\")\n",
    "\n",
    "\n",
    "num=decor(num)\n",
    "num()"
   ]
  },
  {
   "cell_type": "code",
   "execution_count": 14,
   "id": "2bd9b2ba-1841-4052-9fc1-26826416ffc9",
   "metadata": {},
   "outputs": [
    {
     "name": "stdout",
     "output_type": "stream",
     "text": [
      "Inner FUnction:Before ENhancing Function\n",
      "We will use this function\n",
      "and will enhance this in decorator\n",
      "Inner Function:After enhancing function\n"
     ]
    }
   ],
   "source": [
    "def decor(fun):\n",
    "    def inner():\n",
    "        print(\"Inner FUnction:Before ENhancing Function\")\n",
    "        fun()\n",
    "        print(\"Inner Function:After enhancing function\")\n",
    "    return inner\n",
    "@decor\n",
    "\n",
    "def num():\n",
    "    print(\"We will use this function\")\n",
    "    print(\"and will enhance this in decorator\")\n",
    "num()"
   ]
  },
  {
   "cell_type": "code",
   "execution_count": 16,
   "id": "2dc0c457-af2d-48e9-87e7-2a9f0302eb5a",
   "metadata": {},
   "outputs": [
    {
     "name": "stdout",
     "output_type": "stream",
     "text": [
      "15\n"
     ]
    }
   ],
   "source": [
    "def decor(fun):\n",
    "    def inner():\n",
    "        a=fun()\n",
    "        add=a+5\n",
    "        return add\n",
    "    return inner\n",
    "\n",
    "def num():\n",
    "    return 10\n",
    "\n",
    "\n",
    "result_fun=decor(num)\n",
    "print(result_fun())"
   ]
  },
  {
   "cell_type": "code",
   "execution_count": 17,
   "id": "287813ad-4422-474a-8ab2-ea8cffe2de58",
   "metadata": {},
   "outputs": [
    {
     "name": "stdout",
     "output_type": "stream",
     "text": [
      "15\n"
     ]
    }
   ],
   "source": [
    "def decor(num):\n",
    "    def inner():\n",
    "        a=num()\n",
    "        add=a+5\n",
    "        return add\n",
    "    return inner\n",
    "\n",
    "def num():\n",
    "    return 10\n",
    "\n",
    "\n",
    "result_fun=decor(num)\n",
    "print(result_fun())"
   ]
  },
  {
   "cell_type": "code",
   "execution_count": 19,
   "id": "00cb74d6-f309-446c-9e46-3b4ffdd8c717",
   "metadata": {},
   "outputs": [
    {
     "name": "stdout",
     "output_type": "stream",
     "text": [
      "15\n"
     ]
    }
   ],
   "source": [
    "def decor(num):\n",
    "    def inner():\n",
    "        a=num()\n",
    "        add=a+5\n",
    "        return add\n",
    "    return inner\n",
    "\n",
    "@decor\n",
    "def num():\n",
    "    return 10\n",
    "print(num())"
   ]
  },
  {
   "cell_type": "markdown",
   "id": "4114f225-c76a-4253-94d7-52cf6c655da7",
   "metadata": {},
   "source": [
    "#here our task is not just to use the decorator but to enhance the num().so instead of fun we should use dorectly the num ()"
   ]
  },
  {
   "cell_type": "code",
   "execution_count": 23,
   "id": "0b8667b9-af42-4141-9450-fd80e2af1289",
   "metadata": {},
   "outputs": [
    {
     "name": "stdout",
     "output_type": "stream",
     "text": [
      "55\n"
     ]
    }
   ],
   "source": [
    "def decor1(num):\n",
    "    def inner():\n",
    "        b=num()\n",
    "        multi=b*5\n",
    "        return multi\n",
    "    return inner\n",
    "\n",
    "def decor(num):\n",
    "    def inner():\n",
    "        a=num()\n",
    "        add=a+5\n",
    "        return add\n",
    "    return inner\n",
    "    \n",
    "def num():\n",
    "    return 10\n",
    "\n",
    "num=decor(decor1(num))\n",
    "print(num())"
   ]
  },
  {
   "cell_type": "markdown",
   "id": "5efbef19-9ab9-42b3-9940-d3b355aed52e",
   "metadata": {},
   "source": [
    "#here wgen we start to debug at 1st line.so it doesnt execute the function as it is not called at that line.so goes to directly to the 2nd fun ie decor().again function is there.again skips and goes to the next fun ...again skips next comes the num variable.\n",
    "\n",
    "so,in num variable the decor1() is there ie the inner function of num variable .so it goes to that line.\n",
    "\n"
   ]
  },
  {
   "cell_type": "code",
   "execution_count": 24,
   "id": "98a94ff6-24f4-4947-b98b-2ac33eff6629",
   "metadata": {},
   "outputs": [
    {
     "name": "stdout",
     "output_type": "stream",
     "text": [
      "55\n"
     ]
    }
   ],
   "source": [
    "def decor1(num):\n",
    "    def inner():\n",
    "        b=num()\n",
    "        multi=b*5\n",
    "        return multi\n",
    "    return inner\n",
    "\n",
    "def decor(num):\n",
    "    def inner():\n",
    "        a=num()\n",
    "        add=a+5\n",
    "        return add\n",
    "    return inner\n",
    "\n",
    "@decor\n",
    "@decor1\n",
    "def num():\n",
    "    return 10\n",
    "\n",
    "print(num())"
   ]
  },
  {
   "cell_type": "code",
   "execution_count": null,
   "id": "5cb7564d-ccab-4a6e-99a2-bba66942a694",
   "metadata": {},
   "outputs": [],
   "source": []
  }
 ],
 "metadata": {
  "kernelspec": {
   "display_name": "Python 3 (ipykernel)",
   "language": "python",
   "name": "python3"
  },
  "language_info": {
   "codemirror_mode": {
    "name": "ipython",
    "version": 3
   },
   "file_extension": ".py",
   "mimetype": "text/x-python",
   "name": "python",
   "nbconvert_exporter": "python",
   "pygments_lexer": "ipython3",
   "version": "3.11.7"
  }
 },
 "nbformat": 4,
 "nbformat_minor": 5
}
